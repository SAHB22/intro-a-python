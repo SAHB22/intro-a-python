{
 "cells": [
  {
   "cell_type": "markdown",
   "metadata": {},
   "source": [
    "# Python avanzado y principios del desarrollo de software\n",
    "\n",
    "### Operadores de comparasión\n",
    "\n",
    "Todos los lenguajes de programación tienen operadores que sirven para hacer comparaciones entre una cosa y otra, de tal modo que podamos tomar decisiones y clasificar datos. Por ejemplo, si quiero saber si el usuario actual es menor de edad, puedo preguntar eso usando el comparador < o > (menor que, o mayor que):\n"
   ]
  },
  {
   "cell_type": "code",
   "execution_count": 12,
   "metadata": {},
   "outputs": [
    {
     "data": {
      "text/plain": [
       "True"
      ]
     },
     "execution_count": 12,
     "metadata": {},
     "output_type": "execute_result"
    }
   ],
   "source": [
    "edad_del_usuario = 17\n",
    "\n",
    "mayoria_de_edad = 18\n",
    "\n",
    "\n",
    "edad_del_usuario < mayoria_de_edad"
   ]
  },
  {
   "cell_type": "markdown",
   "metadata": {},
   "source": [
    "Para esto usamos también los operadores mayor o igual qué `>=` y menor o igual que `<=`.\n",
    "\n",
    "Para comparar si algo es igual a algo más usamos el operador `==`. Por ejemplo:"
   ]
  },
  {
   "cell_type": "code",
   "execution_count": 13,
   "metadata": {},
   "outputs": [
    {
     "data": {
      "text/plain": [
       "True"
      ]
     },
     "execution_count": 13,
     "metadata": {},
     "output_type": "execute_result"
    }
   ],
   "source": [
    "edad_del_usuario = 18\n",
    "\n",
    "mayoria_de_edad = 18\n",
    "\n",
    "edad_del_usuario == mayoria_de_edad"
   ]
  },
  {
   "cell_type": "markdown",
   "metadata": {},
   "source": [
    "Para comparar que algo es diferente de usamos `!=`"
   ]
  },
  {
   "cell_type": "code",
   "execution_count": 14,
   "metadata": {},
   "outputs": [
    {
     "data": {
      "text/plain": [
       "True"
      ]
     },
     "execution_count": 14,
     "metadata": {},
     "output_type": "execute_result"
    }
   ],
   "source": [
    "edad_del_usuario = 17\n",
    "\n",
    "mayoria_de_edad = 18\n",
    "\n",
    "\n",
    "edad_del_usuario != mayoria_de_edad"
   ]
  },
  {
   "cell_type": "markdown",
   "metadata": {},
   "source": [
    "Para más información sobre operadores de comparación [aquí](https://docs.python.org/3/reference/lexical_analysis.html#operators)"
   ]
  },
  {
   "cell_type": "markdown",
   "metadata": {},
   "source": [
    "### Control de flujo o Control Flow\n",
    "\n",
    "El control de flujo es la manera que tiene un lenguaje para encaminar la data por uno u otro lado según los requerimientos que tu necesites usando condiciones que pueden ayudarse de comparadores.\n",
    "\n",
    "Por ejemplo, si el usuario es mayor de edad, imprime: es mayor de edad.\n",
    "\n"
   ]
  },
  {
   "cell_type": "code",
   "execution_count": 19,
   "metadata": {},
   "outputs": [
    {
     "name": "stdout",
     "output_type": "stream",
     "text": [
      "es mayor de edad\n"
     ]
    }
   ],
   "source": [
    "edad_del_usuario = 20\n",
    "mayoria_de_edad = 18\n",
    "\n",
    "if edad_del_usuario >= mayoria_de_edad:\n",
    "    print(\"es mayor de edad\")"
   ]
  },
  {
   "cell_type": "markdown",
   "metadata": {},
   "source": [
    "Podemos un bloque de código que se ejecute en caso de que la condición sea falsa usando un `else` statement:"
   ]
  },
  {
   "cell_type": "code",
   "execution_count": 20,
   "metadata": {},
   "outputs": [
    {
     "name": "stdout",
     "output_type": "stream",
     "text": [
      "es menor de edad\n"
     ]
    }
   ],
   "source": [
    "edad_del_usuario = 7\n",
    "mayoria_de_edad = 18\n",
    "\n",
    "if edad_del_usuario >= mayoria_de_edad:\n",
    "    print(\"es mayor de edad\")\n",
    "else:\n",
    "    print(\"es menor de edad\")"
   ]
  },
  {
   "cell_type": "markdown",
   "metadata": {},
   "source": [
    "Incluso, podemos agregar una o más condiciones adicionales a la primer condicional usando `elif` statements:"
   ]
  },
  {
   "cell_type": "code",
   "execution_count": 38,
   "metadata": {},
   "outputs": [
    {
     "name": "stdout",
     "output_type": "stream",
     "text": [
      "tiene 18 años\n"
     ]
    }
   ],
   "source": [
    "edad_del_usuario = 18\n",
    "mayoria_de_edad = 18\n",
    "\n",
    "if edad_del_usuario > mayoria_de_edad:\n",
    "    print(\"es mayor de edad\")\n",
    "elif edad_del_usuario == 18:\n",
    "    print(\"tiene 18 años\")\n",
    "else:\n",
    "    print(\"es menor de edad\")"
   ]
  },
  {
   "cell_type": "markdown",
   "metadata": {},
   "source": [
    "Los siguientes elif statements pueden usarse sobre otras características del dataset, por ejemplo, si este fuera un arreglo con otros datos como color de pelo, podría poner en un elif: si el `color de pelo` es igual a `rojo` y pasar otro bloque de código, e inclusive poner más de una condición por cada `if` o `elif`:\n"
   ]
  },
  {
   "cell_type": "code",
   "execution_count": 22,
   "metadata": {},
   "outputs": [
    {
     "name": "stdout",
     "output_type": "stream",
     "text": [
      "debes ser un Weasley\n"
     ]
    }
   ],
   "source": [
    "usuario = {\"edad\": 29, \"pelo\": \"rojo\", \"nombre\":\"Ron Weasley\"}\n",
    "\n",
    "if usuario[\"edad\"] > 10 and usuario[\"pelo\"] == \"rojo\":\n",
    "    print(\"debes ser un Weasley\")"
   ]
  },
  {
   "cell_type": "markdown",
   "metadata": {},
   "source": [
    "Del mismo modo, puedes usar not para tus condicionantes:"
   ]
  },
  {
   "cell_type": "code",
   "execution_count": 24,
   "metadata": {},
   "outputs": [
    {
     "name": "stdout",
     "output_type": "stream",
     "text": [
      "no eres un Weasley\n"
     ]
    }
   ],
   "source": [
    "usuario = {\"edad\": 29, \"pelo\": \"sin pelo\", \"nombre\":\"Voldemort\"}\n",
    "\n",
    "if usuario[\"edad\"] > 10 and not usuario[\"pelo\"] == \"rojo\":\n",
    "    print(\"no eres un Weasley\")"
   ]
  },
  {
   "cell_type": "markdown",
   "metadata": {},
   "source": [
    "### Ahora, un ejercicio:"
   ]
  },
  {
   "cell_type": "markdown",
   "metadata": {},
   "source": [
    "Usemos lo que hemos aprendido de flujo de control y condicionantes para clasificar la edad, supongamos que tienes encuestas de salud de una población amplia y quieres __clasificar__ a los encuestados según su edad para comenzar a hacer estadística. Para ello recopilaste el dato __Edad__. Los registros que tienes se parecen a estos de abajo, donde recopilas género, edad, cantidad de hijos, colonia, salario mensual, si padecen de diabetes:"
   ]
  },
  {
   "cell_type": "code",
   "execution_count": 33,
   "metadata": {},
   "outputs": [],
   "source": [
    "encuestados = [['Femenino', 38, 2, \"Nuevo Repueblo\", \"de 0 a 5,000\", False], \n",
    "               ['Femenino', 19, 0, \"Contry La silla\", \"de 10,000 a 15,000\", False], \n",
    "               ['Masculino', 22, 1, \"Fomerrey 22\", \"de 0 a 5,000\", False], \n",
    "               ['Masculino', 70, 3, \"Valle Verde\", \"de 5,000 a 7,000\", True], \n",
    "               ['Femenino', 57, 4, \"Centro\", \"de 7,000 a 10,000\", False], \n",
    "               ['Femenino', 44, 0, \"Valle Alto\", \"de 30,000 a 50,000\", False], \n",
    "               ['Femenino', 20, 2, \"Burócratas Municipales\", \"de 5,000 a 7,000\", True], \n",
    "               ['Masculino', 19, 0, \"Buenos Aires\", \"de 10,000 a 13,000\", True], \n",
    "               ['Femenino', 12, 0, \"Obrera\", \"de 5,000 a 7,000\", True], \n",
    "               ['Masculino', 32, 3, \"Contry Sol\", \"de 10,000 a 15,000\", False], \n",
    "               ['Femenino', 87, 9, \"Del Paseo\", \"de 15,000 a 20,000\", True], \n",
    "               ['Femenino', 25, 1, \"Roma\", \"de 20,000 a 25,000\", False], \n",
    "               ['Masculino', 65, 3, \"Estadio\", \"de 10,000 a 15,000\", True], ]"
   ]
  },
  {
   "cell_type": "markdown",
   "metadata": {},
   "source": [
    "Para clasificar las edades quiero usar una metodología de la universidad autónoma de tangamandapio que va así:"
   ]
  },
  {
   "cell_type": "code",
   "execution_count": 34,
   "metadata": {},
   "outputs": [],
   "source": [
    "# Dificultad normal:\n",
    "\n",
    "# edad mayor a 20: no-joven\n",
    "# edad menor a 20: joven\n",
    "\n",
    "\n",
    "# dificultad insanity:\n",
    "\n",
    "rango_de_edades = { \"joven\": [10, 20], \n",
    "                    \"millenial\": [20, 35], \n",
    "                    \"super adulto\": [30, 300],\n",
    "                  }\n"
   ]
  },
  {
   "cell_type": "markdown",
   "metadata": {},
   "source": [
    "Agrega un último valor a cada registro que represente la clasificación según la edad. Usa un for loop, las comparaciones que consideres necesarias, los elifs que consideres necesarios y las dobles condicionales que consideres necesarias y append.\n",
    "\n",
    "__Input__: la variable encuestados y la clasificación normal, o la insanity  \n",
    "__cómputo__: clasificar cada registro según la edad  \n",
    "__output__: la lista con una columna más que represente esta clasificación"
   ]
  },
  {
   "cell_type": "markdown",
   "metadata": {},
   "source": [
    "### Funciones\n",
    "\n",
    "__¿Qué es una función?__\n"
   ]
  },
  {
   "cell_type": "markdown",
   "metadata": {},
   "source": [
    "En python, como en muchos otros lenguajes, las funciones se __definen__ para encapsular un comportamiento o reutilizar código. Por ejemplo, en nuestro ejemplo de arriba para verificar la edad, es posible que tengamos que utilizarlo en el futuro. Para no re-escribirlo, definamos una función:"
   ]
  },
  {
   "cell_type": "code",
   "execution_count": 37,
   "metadata": {},
   "outputs": [
    {
     "name": "stdout",
     "output_type": "stream",
     "text": [
      "tiene 18 años\n"
     ]
    }
   ],
   "source": [
    "edad_del_usuario = 18\n",
    "\n",
    "\n",
    "def checar_edad(usuario):\n",
    "    mayoria_de_edad = 18\n",
    "    if usuario > mayoria_de_edad:\n",
    "        print(\"es mayor de edad\")\n",
    "    elif usuario == 18:\n",
    "        print(\"tiene 18 años\")\n",
    "    else:\n",
    "        print(\"es menor de edad\")\n",
    "        \n",
    "checar_edad(edad_del_usuario)"
   ]
  },
  {
   "cell_type": "markdown",
   "metadata": {},
   "source": [
    "## Programación estructurada y modular\n",
    "\n",
    "Hasta ahora la mayoría de nuestro código lo hemos ejecutado en la consola, sin embargo, en cuanto cerramos la consola nuestro código, nuestras variables y nuestro trabajo desaparecen. Es por eso que cuando ya comenzamos a trabajar como científicas de datos, lo que requerimos hacer es guardar nuestro código en un archivo tipo python, al que le llamamos script. Cualquier archivo que termine en `.py` es un script de python y puede ser ejecutado con el intérprete de `python`. \n",
    "\n",
    "La programación que hacemos en un solo archivo, con un solo punto de salida arriba a abajo se llama programación estructurada y es el tipo de programación que hemos hecho hasta ahora. A medida que nuestro trabajo se vuelva más complejo vamos a requerir separar nuestro código en partes más pequeñas y trabajarlo por separado para aminorar las fallas y facilitar su manejo: recuerda, divide y vencerás. En desarrollo de software, dividir grandes problemas en problemas más y más chicos es la mejor manera de programar. Para ello existe la programación modular: donde nosotros agrupamos nuestro código en módulos, e incluso en archivos distintos para mandarlo llamar cuando así lo consideremos. Los programadores suelen además escribir sus propios módulos que usan frecuentemente y algunas veces, cuando es código muy extenso y necesario, el desarrollador lo distribuye como una librería.\n",
    "\n",
    "Para escribir y mandar a llamar un módulo: \n",
    "\n",
    "1. definamos un archivo con el nombre del módulo y sus funciones adentro. Por ejemplo: modulo_de_nombres.py\n",
    "2. mandemos a llamar ese archivo usando la función `import modulo_de_nombres`\n",
    "3. dentro de ese nuevo documento podemos usar las funciones escribiendo modulo_de_nombres.nombre_de_función.\n",
    "\n",
    "Demostración.\n"
   ]
  },
  {
   "cell_type": "markdown",
   "metadata": {},
   "source": [
    "### Importando Numpy\n",
    "\n",
    "__Numpy__ es una librería estadística de python que utilizaremos para realizar algunas funciones. Justamente es un conjunto de módulos que alguien escribió para realizar funciones estadísticas porque se dio cuenta que era una actividad recurrente en su trabajo, y decidió escribir módulos y luego liberar su código para que los programadores del público lo mejoraran. Para importar `numpy` hay que tenerlo instalado y sólo indicar `import numpy` al principio de mi script.\n",
    "\n",
    "Juguemos con Numpy:"
   ]
  },
  {
   "cell_type": "code",
   "execution_count": 44,
   "metadata": {},
   "outputs": [
    {
     "name": "stdout",
     "output_type": "stream",
     "text": [
      "[1, 2, 3, 2, 3, 4]\n",
      "[3 5 7]\n",
      "[ 2  6 12]\n"
     ]
    }
   ],
   "source": [
    "import numpy as np\n",
    "\n",
    "a = [1, 2, 3]\n",
    "b = [2, 3, 4]\n",
    "print(a + b)\n",
    "\n",
    "c = np.array(a)\n",
    "d = np.array(b)\n",
    "\n",
    "print(c + d)\n",
    "print(c * d)"
   ]
  },
  {
   "cell_type": "code",
   "execution_count": null,
   "metadata": {},
   "outputs": [],
   "source": []
  }
 ],
 "metadata": {
  "kernelspec": {
   "display_name": "Python 3",
   "language": "python",
   "name": "python3"
  },
  "language_info": {
   "codemirror_mode": {
    "name": "ipython",
    "version": 3
   },
   "file_extension": ".py",
   "mimetype": "text/x-python",
   "name": "python",
   "nbconvert_exporter": "python",
   "pygments_lexer": "ipython3",
   "version": "3.7.0"
  }
 },
 "nbformat": 4,
 "nbformat_minor": 2
}
