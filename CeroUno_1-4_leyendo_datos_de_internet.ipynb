{
 "cells": [
  {
   "cell_type": "markdown",
   "metadata": {},
   "source": [
    "# Entendiendo la estructura de una aplicación web y consumiendo datos de internet\n",
    "\n",
    "\n",
    "### ¿Cómo funcionan las direcciones web?\n",
    "\n",
    "### https://www.facebook.com/events/2070132572999559/\n",
    "\n",
    "Protocolo - Dominio - Modelo o Recurso - Identificador\n",
    "\n",
    "\n",
    "Una URL es una ruta que el servidor utiliza para saber qué información enviar al usuario. Cuando digitamos una dirección en el navegador, lo que estamos haciendo es un pedido al servidor. Y la dirección que digitamos es para que servidor pueda entender lo que queremos. En este caso, el servidor de facebook quiere que busques entre su table de eventos aquella que tenga el id __2070132572999559__\n",
    "\n",
    "Entonces un URL es una instrucción para el servidor de que tiene que encontrar un recurso en la base de datos. En Facebook existe https://www.facebook.com/nombredelperfil que consulta el nombre del perfil de usuario en la tabla de usuarios y muestra tu perfil. https://www.facebook.com/nombredelperfil/posts/10155696332611078 que muestra el ID de un post perteneciende a un usuario y muchos otros más. \n",
    "\n",
    "Cuando accesamos estas direcciones el servidor hace las búsquedas permitentes y le envía datos a nuestro navegador para presentar la información. Utiliza plantillas para pintar la página y datos para rellenar las plantillas. Esos datos incluyen, por ejemplo, tu foto de perfil, tus últimos status, etc. Toda esta transacción ocurre tras bambalinas para el usuario, quien sólo ve la página web ya pintada o _rendereada_. En la consola de desarrollador de tu navegador, en la pestaña de network, puedes ver cómo pasan estas interacciones. Tan sólo métete a una página y observa la actividad.\n",
    "\n",
    "Demo.\n",
    "\n",
    "A veces, las páginas liberan con su dirección una forma computacional de accesar los datos de su base de datos. En lugar de enviarte una plantilla con los datos para pintar la página, lo que mandan son únicamente los datos, en un lenguaje listo para que lo podamos consultar con cualquier lenguaje de programación. A esta forma de accesar los datos se le llama API, o Aplication Program Interface, porque está dirigida a que los programas o scripts que escribimos puedan accesar los datos. Estos datos podemos accesarlos con python con instrumentos tan sencillos como `for loops` y transformarlos como hemos hecho hasta ahora y escribirlos en CSVs como ya hemos hecho, y este será un procedimiento común en tu trabajo como científica de datos.\n",
    "\n",
    "Veamos ejemplo de algunas API para jugar:\n",
    "\n",
    "https://jsonplaceholder.typicode.com/posts/ - index o índice de todos los posts\n",
    "https://jsonplaceholder.typicode.com/posts/3 - post#show - mostrando el post número tres\n",
    "\n",
    "__¿Reconoces esas estructuras de datos?__\n",
    "\n",
    "El archivo que estamos viendo se llama __JSON: Javascript Object Notation__. Reconocerás que la estructura es parecida a un diccionario de python, aunque no exactamente. JSON es un estándar de datos que un API entrega como output y tiene la intención de ser un formato estandarizado de entrega. Lo cual quiere decir que a pesar de que la aplicación que estamos consultando pudo haber sido escrita en cualquier lenguaje de programación, el formato JSON hace que pueda leer esos datos con cualquier otro lenguaje de programación también. Es como una especie de esperanto o lingua franca donde los programas se pueden comunicar entre ellos con un lenguaje común.\n",
    "\n",
    "Una vez que hacemos un pedido de datos con python y tenemos un JSON, hacemos una traducción simple de JSON a Python. Intentemos JSON:\n",
    "\n"
   ]
  },
  {
   "cell_type": "code",
   "execution_count": 8,
   "metadata": {},
   "outputs": [
    {
     "name": "stdout",
     "output_type": "stream",
     "text": [
      "1\n",
      "3\n",
      "ea molestias quasi exercitationem repellat qui ipsa sit aut\n",
      "et iusto sed quo iure voluptatem occaecati omnis eligendi aut ad voluptatem doloribus vel accusantium quis pariatur molestiae porro eius odio et labore et velit aut\n"
     ]
    }
   ],
   "source": [
    "un_json = '{\"userId\": 1,  \"id\": 3,  \"title\": \"ea molestias quasi exercitationem repellat qui ipsa sit aut\",  \"body\": \"et iusto sed quo iure voluptatem occaecati omnis eligendi aut ad voluptatem doloribus vel accusantium quis pariatur molestiae porro eius odio et labore et velit aut\" }'\n",
    "\n",
    "import json\n",
    "\n",
    "# esta es la función para importar un json en texto, la función para importar json directamente de un sitio es load() en singular\n",
    "json_listo = json.loads(un_json)\n",
    "\n",
    "# ahora puedo accesar un json como si fuera un diccionario\n",
    "\n",
    "print(json_listo[\"userId\"])\n",
    "print(json_listo[\"id\"])\n",
    "print(json_listo[\"title\"])\n",
    "print(json_listo[\"body\"])"
   ]
  },
  {
   "cell_type": "markdown",
   "metadata": {},
   "source": [
    "Lo que acabamos de hacer se llama __parsing__. Parsing es leer computacionalmente un texto, caracter por caracter, para traducirlo a mi lenguaje de programación o con mi script. En este caso, python leyo caracter por caracter un string, he a través de la función `json.loads()` lo transformó en un diccionario de python.\n",
    "\n",
    "Bien, ahora que sabemos parsear un json, ¿cómo lo sacamos de internet? así como con el navegador, debemos mandar un request. Pero python no tiene navegador, por lo que debemos hacerlo con la consola utilizando la librería [Requests](http://docs.python-requests.org/en/master/) de python, que también tiene un pequeño tutorial para \"principiantes\" [aquí](http://docs.python-requests.org/en/master/user/quickstart/)\n",
    "\n",
    "Intentemos hacer ese mismo request al API:\n"
   ]
  },
  {
   "cell_type": "code",
   "execution_count": 12,
   "metadata": {},
   "outputs": [
    {
     "name": "stdout",
     "output_type": "stream",
     "text": [
      "{\n",
      "  \"userId\": 1,\n",
      "  \"id\": 3,\n",
      "  \"title\": \"ea molestias quasi exercitationem repellat qui ipsa sit aut\",\n",
      "  \"body\": \"et iusto sed quo iure\\nvoluptatem occaecati omnis eligendi aut ad\\nvoluptatem doloribus vel accusantium quis pariatur\\nmolestiae porro eius odio et labore et velit aut\"\n",
      "}\n",
      "<class 'str'>\n"
     ]
    }
   ],
   "source": [
    "import requests\n",
    "import json\n",
    "\n",
    "my_request = requests.get('https://jsonplaceholder.typicode.com/posts/3')\n",
    "\n",
    "# con esta opción podemos ver qué contiene el request que hicimos\n",
    "print(my_request.text)\n",
    "\n",
    "# aunque parece un diccionario de python, como verás, el tipo del objeto es un string, es decir, tenemos que parsearlo\n",
    "print(type(my_request.text))"
   ]
  },
  {
   "cell_type": "markdown",
   "metadata": {},
   "source": [
    "A un pedido como este se le llama Request, porque es un pedido de información que tu navegador le hace al servidor donde se encuentra la aplicación web. Existen requests simples, que sólo requieren que envíes la dirección, y requests más complejos que envían información llamada parámetros. Cuando, por ejemplo, tú llenas un formulario de búsqueda, cuando pones un status en facebook, o subes una foto, el request incluye en sus parámetros los datos que tú estás actualizando, el texto del status de facebook, por ejemplo.\n",
    "\n",
    "Entonces existen varios tipos de request, lo que sirven sólo para leer información se llaman __GET__, lo que actualizan un registro existente se llaman __POST__ y __PATCH__ y los que sirven para borrar información se llaman __DELETE__. Normalmente no tenemos que pensar en esto porque el navegador hace todo el trabajo con nosotros, pero a los desarrolladores nos sirve saberlo para construir aplicaciones y a los científicos de datos nos sirve para explotar los datos de las páginas.\n",
    "\n",
    "Como habrás visto, el tipo de request que hicimos con la librería __Requests__ fue de tipo get, ya que la función que utilizamos fue `request.get(url)` es decir, el request que hicimos fue de sólo lectura. Bien, ahora hagamos un parsing del request:"
   ]
  },
  {
   "cell_type": "code",
   "execution_count": 16,
   "metadata": {},
   "outputs": [
    {
     "name": "stdout",
     "output_type": "stream",
     "text": [
      "{'userId': 1, 'id': 3, 'title': 'ea molestias quasi exercitationem repellat qui ipsa sit aut', 'body': 'et iusto sed quo iure\\nvoluptatem occaecati omnis eligendi aut ad\\nvoluptatem doloribus vel accusantium quis pariatur\\nmolestiae porro eius odio et labore et velit aut'}\n",
      "<class 'dict'>\n"
     ]
    }
   ],
   "source": [
    "parsed = json.loads(my_request.text)\n",
    "\n",
    "print(parsed)\n",
    "\n",
    "print(type(parsed))"
   ]
  },
  {
   "cell_type": "code",
   "execution_count": 18,
   "metadata": {},
   "outputs": [
    {
     "name": "stdout",
     "output_type": "stream",
     "text": [
      "1\n",
      "ea molestias quasi exercitationem repellat qui ipsa sit aut\n"
     ]
    }
   ],
   "source": [
    "# el hecho de que el tipo de objeto sea dictionary y no string significa que ya podemos accesar los valores con python\n",
    "\n",
    "print(parsed['userId'])\n",
    "print(parsed['title'])\n",
    "\n",
    "\n",
    "# ¡Felicidades! ahora has leído un API"
   ]
  },
  {
   "cell_type": "markdown",
   "metadata": {},
   "source": [
    "### Ejercicio para el fin de semana:\n",
    "\n",
    "\n",
    "#### Práctica 1\n",
    "\n",
    "Construye un iterador (for Loop) que consuma el índice de los posts https://jsonplaceholder.typicode.com/posts/ e imprima todos los títulos de los posts. Por favor nota la estructura de datos: El índice es una __lista__ de diccionarios, es decir, empieza con corchetes. El `json.loads()` será capaz de leerlo, pero para imprimir los datos debes tener esto en cuenta.\n",
    "\n",
    "#### Práctica 2\n",
    "\n",
    "Como te habrás dado cuenta, al ver el index de posts, y leer los datos, nos damos cuenta que el ID de los posts es incremental. Es decir, el primer post tiene el ID de 1, el segundo de 2 y así consecutivamente hasta el 100. Y para accesar un ID de post debes pasarle ese número a posts así:\n",
    "\n",
    "https://jsonplaceholder.typicode.com/posts/5 \n",
    "\n",
    "Para poder accesar al post número 5.\n",
    "\n",
    "Escribe un iterador (for loop) que haga interpolación o concatenación de strings por la totalidad de los posts (son 100 posts). Debes concatenar el URL de index más los números del 1 al 100 y haz un request para cada uno, e imprime el título del post.\n",
    "\n",
    "\n",
    "#### ¿Quieres probar con otras APIs?\n",
    "\n",
    "También se vale. Aquí te ponemos una lista de APIs públicas para jugar: https://github.com/toddmotto/public-apis"
   ]
  },
  {
   "cell_type": "code",
   "execution_count": null,
   "metadata": {},
   "outputs": [],
   "source": []
  }
 ],
 "metadata": {
  "kernelspec": {
   "display_name": "Python 3",
   "language": "python",
   "name": "python3"
  },
  "language_info": {
   "codemirror_mode": {
    "name": "ipython",
    "version": 3
   },
   "file_extension": ".py",
   "mimetype": "text/x-python",
   "name": "python",
   "nbconvert_exporter": "python",
   "pygments_lexer": "ipython3",
   "version": "3.7.0"
  }
 },
 "nbformat": 4,
 "nbformat_minor": 2
}
